{
  "metadata": {
    "kernelspec": {
      "name": "python",
      "display_name": "Python (Pyodide)",
      "language": "python"
    },
    "language_info": {
      "codemirror_mode": {
        "name": "python",
        "version": 3
      },
      "file_extension": ".py",
      "mimetype": "text/x-python",
      "name": "python",
      "nbconvert_exporter": "python",
      "pygments_lexer": "ipython3",
      "version": "3.8"
    }
  },
  "nbformat_minor": 4,
  "nbformat": 4,
  "cells": [
    {
      "cell_type": "code",
      "source": "import pandas as pd",
      "metadata": {
        "trusted": true
      },
      "outputs": [],
      "execution_count": 5
    },
    {
      "cell_type": "code",
      "source": "data = {\n    'Roll Number': [101, 102, 103, 104, 105, 106, 107, 108, 109, 110],\n    'Name': ['Alice', 'Bob', 'Charlie', 'David', 'Eve', 'Frank', 'Grace', 'Hannah', 'Isaac', 'Jack'],\n    'Gender': ['F', 'M', 'M', 'M', 'F', 'M', 'F', 'F', 'M', 'M'],\n    'Marks1': [35, 78, 92, 67, 89, 55, 91, 88, 40, 52],\n    'Marks2': [90, 85, 58, 62, 78, 83, 95, 37, 68, 40],\n    'Marks3': [79, 92, 84, 70, 38, 66, 90, 45, 53, 81]\n}\n\ndf = pd.DataFrame(data)\n\ndf",
      "metadata": {
        "trusted": true
      },
      "outputs": [
        {
          "execution_count": 6,
          "output_type": "execute_result",
          "data": {
            "text/plain": "   Roll Number     Name Gender  Marks1  Marks2  Marks3\n0          101    Alice      F      35      90      79\n1          102      Bob      M      78      85      92\n2          103  Charlie      M      92      58      84\n3          104    David      M      67      62      70\n4          105      Eve      F      89      78      38\n5          106    Frank      M      55      83      66\n6          107    Grace      F      91      95      90\n7          108   Hannah      F      88      37      45\n8          109    Isaac      M      40      68      53\n9          110     Jack      M      52      40      81",
            "text/html": "<div>\n<style scoped>\n    .dataframe tbody tr th:only-of-type {\n        vertical-align: middle;\n    }\n\n    .dataframe tbody tr th {\n        vertical-align: top;\n    }\n\n    .dataframe thead th {\n        text-align: right;\n    }\n</style>\n<table border=\"1\" class=\"dataframe\">\n  <thead>\n    <tr style=\"text-align: right;\">\n      <th></th>\n      <th>Roll Number</th>\n      <th>Name</th>\n      <th>Gender</th>\n      <th>Marks1</th>\n      <th>Marks2</th>\n      <th>Marks3</th>\n    </tr>\n  </thead>\n  <tbody>\n    <tr>\n      <th>0</th>\n      <td>101</td>\n      <td>Alice</td>\n      <td>F</td>\n      <td>35</td>\n      <td>90</td>\n      <td>79</td>\n    </tr>\n    <tr>\n      <th>1</th>\n      <td>102</td>\n      <td>Bob</td>\n      <td>M</td>\n      <td>78</td>\n      <td>85</td>\n      <td>92</td>\n    </tr>\n    <tr>\n      <th>2</th>\n      <td>103</td>\n      <td>Charlie</td>\n      <td>M</td>\n      <td>92</td>\n      <td>58</td>\n      <td>84</td>\n    </tr>\n    <tr>\n      <th>3</th>\n      <td>104</td>\n      <td>David</td>\n      <td>M</td>\n      <td>67</td>\n      <td>62</td>\n      <td>70</td>\n    </tr>\n    <tr>\n      <th>4</th>\n      <td>105</td>\n      <td>Eve</td>\n      <td>F</td>\n      <td>89</td>\n      <td>78</td>\n      <td>38</td>\n    </tr>\n    <tr>\n      <th>5</th>\n      <td>106</td>\n      <td>Frank</td>\n      <td>M</td>\n      <td>55</td>\n      <td>83</td>\n      <td>66</td>\n    </tr>\n    <tr>\n      <th>6</th>\n      <td>107</td>\n      <td>Grace</td>\n      <td>F</td>\n      <td>91</td>\n      <td>95</td>\n      <td>90</td>\n    </tr>\n    <tr>\n      <th>7</th>\n      <td>108</td>\n      <td>Hannah</td>\n      <td>F</td>\n      <td>88</td>\n      <td>37</td>\n      <td>45</td>\n    </tr>\n    <tr>\n      <th>8</th>\n      <td>109</td>\n      <td>Isaac</td>\n      <td>M</td>\n      <td>40</td>\n      <td>68</td>\n      <td>53</td>\n    </tr>\n    <tr>\n      <th>9</th>\n      <td>110</td>\n      <td>Jack</td>\n      <td>M</td>\n      <td>52</td>\n      <td>40</td>\n      <td>81</td>\n    </tr>\n  </tbody>\n</table>\n</div>"
          },
          "metadata": {}
        }
      ],
      "execution_count": 6
    },
    {
      "cell_type": "code",
      "source": "df[\"Total_Marks\"] = df.iloc[:,df.columns.get_loc(\"Marks1\"):(df.columns.get_loc(\"Marks3\"))+1].sum(axis=1)\n\nprint(df)",
      "metadata": {
        "trusted": true
      },
      "outputs": [
        {
          "name": "stdout",
          "text": "   Roll Number     Name Gender  Marks1  Marks2  Marks3  Total_Marks\n0          101    Alice      F      35      90      79          204\n1          102      Bob      M      78      85      92          255\n2          103  Charlie      M      92      58      84          234\n3          104    David      M      67      62      70          199\n4          105      Eve      F      89      78      38          205\n5          106    Frank      M      55      83      66          204\n6          107    Grace      F      91      95      90          276\n7          108   Hannah      F      88      37      45          170\n8          109    Isaac      M      40      68      53          161\n9          110     Jack      M      52      40      81          173\n",
          "output_type": "stream"
        }
      ],
      "execution_count": 22
    },
    {
      "cell_type": "code",
      "source": "low_mk1 = df[\"Marks1\"].min()\nlow_mk1",
      "metadata": {
        "trusted": true
      },
      "outputs": [
        {
          "execution_count": 24,
          "output_type": "execute_result",
          "data": {
            "text/plain": "35"
          },
          "metadata": {}
        }
      ],
      "execution_count": 24
    },
    {
      "cell_type": "code",
      "source": "high_mk2 = df[\"Marks2\"].max()\nhigh_mk2",
      "metadata": {
        "trusted": true
      },
      "outputs": [
        {
          "execution_count": 27,
          "output_type": "execute_result",
          "data": {
            "text/plain": "95"
          },
          "metadata": {}
        }
      ],
      "execution_count": 27
    },
    {
      "cell_type": "code",
      "source": "avg_mk3 = df[\"Marks3\"].mean()\navg_mk3",
      "metadata": {
        "trusted": true
      },
      "outputs": [
        {
          "execution_count": 19,
          "output_type": "execute_result",
          "data": {
            "text/plain": "69.8"
          },
          "metadata": {}
        }
      ],
      "execution_count": 19
    },
    {
      "cell_type": "code",
      "source": "df[\"Avg_Marks\"] = df.iloc[:,df.columns.get_loc(\"Marks1\"):(df.columns.get_loc(\"Marks3\"))+1].mean(axis=1)\n\nprint(df)",
      "metadata": {
        "trusted": true
      },
      "outputs": [
        {
          "name": "stdout",
          "text": "   Roll Number     Name Gender  Marks1  Marks2  Marks3  Total_Marks  Avg_Marks\n0          101    Alice      F      35      90      79          204  68.000000\n1          102      Bob      M      78      85      92          255  85.000000\n2          103  Charlie      M      92      58      84          234  78.000000\n3          104    David      M      67      62      70          199  66.333333\n4          105      Eve      F      89      78      38          205  68.333333\n5          106    Frank      M      55      83      66          204  68.000000\n6          107    Grace      F      91      95      90          276  92.000000\n7          108   Hannah      F      88      37      45          170  56.666667\n8          109    Isaac      M      40      68      53          161  53.666667\n9          110     Jack      M      52      40      81          173  57.666667\n",
          "output_type": "stream"
        }
      ],
      "execution_count": 23
    },
    {
      "cell_type": "code",
      "source": "df.iloc[df['Avg_Marks'].idxmax(),df.columns.get_loc(\"Name\")]",
      "metadata": {
        "trusted": true
      },
      "outputs": [
        {
          "execution_count": 31,
          "output_type": "execute_result",
          "data": {
            "text/plain": "'Grace'"
          },
          "metadata": {}
        }
      ],
      "execution_count": 31
    },
    {
      "cell_type": "code",
      "source": "df[df['Marks2'] < 40].shape[0]",
      "metadata": {
        "trusted": true
      },
      "outputs": [
        {
          "execution_count": 35,
          "output_type": "execute_result",
          "data": {
            "text/plain": "1"
          },
          "metadata": {}
        }
      ],
      "execution_count": 35
    },
    {
      "cell_type": "code",
      "source": "summary = df.describe(percentiles=[0.25, 0.5, 0.75])\nsummary",
      "metadata": {
        "trusted": true
      },
      "outputs": [
        {
          "execution_count": 36,
          "output_type": "execute_result",
          "data": {
            "text/plain": "       Roll Number     Marks1     Marks2     Marks3  Total_Marks  Avg_Marks\ncount     10.00000  10.000000  10.000000  10.000000    10.000000  10.000000\nmean     105.50000  68.700000  69.600000  69.800000   208.100000  69.366667\nstd        3.02765  21.959812  20.227594  18.960778    37.281065  12.427022\nmin      101.00000  35.000000  37.000000  38.000000   161.000000  53.666667\n25%      103.25000  52.750000  59.000000  56.250000   179.500000  59.833333\n50%      105.50000  72.500000  73.000000  74.500000   204.000000  68.000000\n75%      107.75000  88.750000  84.500000  83.250000   226.750000  75.583333\nmax      110.00000  92.000000  95.000000  92.000000   276.000000  92.000000",
            "text/html": "<div>\n<style scoped>\n    .dataframe tbody tr th:only-of-type {\n        vertical-align: middle;\n    }\n\n    .dataframe tbody tr th {\n        vertical-align: top;\n    }\n\n    .dataframe thead th {\n        text-align: right;\n    }\n</style>\n<table border=\"1\" class=\"dataframe\">\n  <thead>\n    <tr style=\"text-align: right;\">\n      <th></th>\n      <th>Roll Number</th>\n      <th>Marks1</th>\n      <th>Marks2</th>\n      <th>Marks3</th>\n      <th>Total_Marks</th>\n      <th>Avg_Marks</th>\n    </tr>\n  </thead>\n  <tbody>\n    <tr>\n      <th>count</th>\n      <td>10.00000</td>\n      <td>10.000000</td>\n      <td>10.000000</td>\n      <td>10.000000</td>\n      <td>10.000000</td>\n      <td>10.000000</td>\n    </tr>\n    <tr>\n      <th>mean</th>\n      <td>105.50000</td>\n      <td>68.700000</td>\n      <td>69.600000</td>\n      <td>69.800000</td>\n      <td>208.100000</td>\n      <td>69.366667</td>\n    </tr>\n    <tr>\n      <th>std</th>\n      <td>3.02765</td>\n      <td>21.959812</td>\n      <td>20.227594</td>\n      <td>18.960778</td>\n      <td>37.281065</td>\n      <td>12.427022</td>\n    </tr>\n    <tr>\n      <th>min</th>\n      <td>101.00000</td>\n      <td>35.000000</td>\n      <td>37.000000</td>\n      <td>38.000000</td>\n      <td>161.000000</td>\n      <td>53.666667</td>\n    </tr>\n    <tr>\n      <th>25%</th>\n      <td>103.25000</td>\n      <td>52.750000</td>\n      <td>59.000000</td>\n      <td>56.250000</td>\n      <td>179.500000</td>\n      <td>59.833333</td>\n    </tr>\n    <tr>\n      <th>50%</th>\n      <td>105.50000</td>\n      <td>72.500000</td>\n      <td>73.000000</td>\n      <td>74.500000</td>\n      <td>204.000000</td>\n      <td>68.000000</td>\n    </tr>\n    <tr>\n      <th>75%</th>\n      <td>107.75000</td>\n      <td>88.750000</td>\n      <td>84.500000</td>\n      <td>83.250000</td>\n      <td>226.750000</td>\n      <td>75.583333</td>\n    </tr>\n    <tr>\n      <th>max</th>\n      <td>110.00000</td>\n      <td>92.000000</td>\n      <td>95.000000</td>\n      <td>92.000000</td>\n      <td>276.000000</td>\n      <td>92.000000</td>\n    </tr>\n  </tbody>\n</table>\n</div>"
          },
          "metadata": {}
        }
      ],
      "execution_count": 36
    }
  ]
}